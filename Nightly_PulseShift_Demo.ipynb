{
  "cells": [
    {
      "cell_type": "markdown",
      "id": "7c810c77",
      "metadata": {
        "id": "7c810c77"
      },
      "source": [
        "\n",
        "# Nightly PulseShift Crowd Energy Demo\n",
        "\n",
        "This notebook analyzes a 30–60 second crowd video, suggests show cues for low-energy moments, and exports a 10-second highlight clip from the highest-energy window.\n",
        "\n",
        "**Steps to use:**\n",
        "1. Run the install cell.\n",
        "2. Upload your video file when prompted.\n",
        "3. Run all cells.\n"
      ]
    },
    {
      "cell_type": "code",
      "execution_count": null,
      "id": "288bbfb8",
      "metadata": {
        "id": "288bbfb8"
      },
      "outputs": [],
      "source": [
        "\n",
        "# Install dependencies\n",
        "!pip -q install opencv-python-headless librosa moviepy matplotlib numpy\n"
      ]
    },
    {
      "cell_type": "code",
      "source": [],
      "metadata": {
        "id": "ZD6P2mKqEmtp"
      },
      "id": "ZD6P2mKqEmtp",
      "execution_count": null,
      "outputs": []
    },
    {
      "cell_type": "code",
      "execution_count": 22,
      "id": "3ddd259c",
      "metadata": {
        "id": "3ddd259c"
      },
      "outputs": [],
      "source": [
        "\n",
        "import os, json, numpy as np, cv2, librosa\n",
        "import matplotlib.pyplot as plt\n",
        "import moviepy.editor as mp\n",
        "\n",
        "def read_video_basic_info(video_path):\n",
        "    cap = cv2.VideoCapture(video_path)\n",
        "    if not cap.isOpened():\n",
        "        raise RuntimeError(f\"Could not open video: {video_path}\")\n",
        "    fps = cap.get(cv2.CAP_PROP_FPS) or 30.0\n",
        "    width = int(cap.get(cv2.CAP_PROP_FRAME_WIDTH))\n",
        "    height = int(cap.get(cv2.CAP_PROP_FRAME_HEIGHT))\n",
        "    frame_count = int(cap.get(cv2.CAP_PROP_FRAME_COUNT))\n",
        "    cap.release()\n",
        "    return frame_count, fps, width, height\n",
        "\n",
        "def compute_motion_energy(video_path, sample_fps=5.0, resize_w=320):\n",
        "    frame_count, fps, w, h = read_video_basic_info(video_path)\n",
        "    step = max(int(round(fps / sample_fps)), 1)\n",
        "    cap = cv2.VideoCapture(video_path)\n",
        "    prev = None\n",
        "    energies, times = [], []\n",
        "    idx = 0\n",
        "    while True:\n",
        "        ret, frame = cap.read()\n",
        "        if not ret:\n",
        "            break\n",
        "        if idx % step == 0:\n",
        "            g = cv2.cvtColor(frame, cv2.COLOR_BGR2GRAY)\n",
        "            scale = resize_w / g.shape[1]\n",
        "            g = cv2.resize(g, (resize_w, int(g.shape[0]*scale)))\n",
        "            g = cv2.GaussianBlur(g, (5,5), 0)\n",
        "            if prev is not None:\n",
        "                diff = cv2.absdiff(g, prev)\n",
        "                energies.append(float(np.mean(diff)))\n",
        "                times.append(idx / fps)\n",
        "            prev = g\n",
        "        idx += 1\n",
        "    cap.release()\n",
        "    return np.array(times, dtype=float), np.array(energies, dtype=float)\n",
        "\n",
        "def compute_audio_energy(video_path: str, target_sr: int = 22050):\n",
        "    \"\"\"\n",
        "    Returns times (s) and RMS energy sampled from the audio track.\n",
        "    Uses a robust path: write audio to WAV, then load with librosa.\n",
        "    If audio is missing, returns empty arrays.\n",
        "    \"\"\"\n",
        "    import numpy as np, librosa, moviepy.editor as mp\n",
        "    try:\n",
        "        clip = mp.VideoFileClip(video_path)\n",
        "        if clip.audio is None:\n",
        "            clip.close()\n",
        "            return np.array([]), np.array([])\n",
        "        tmp_wav = \"tmp_audio.wav\"\n",
        "        # Write audio to a temp WAV at a known sample rate\n",
        "        clip.audio.write_audiofile(tmp_wav, fps=target_sr, verbose=False, logger=None)\n",
        "        clip.close()\n",
        "\n",
        "        y, sr = librosa.load(tmp_wav, sr=target_sr, mono=True)\n",
        "        if y.size == 0:\n",
        "            return np.array([]), np.array([])\n",
        "\n",
        "        frame_length = sr          # 1 second window\n",
        "        hop_length = sr // 2       # 0.5 second hop\n",
        "        rms = librosa.feature.rms(y=y, frame_length=frame_length, hop_length=hop_length)[0]\n",
        "        times = librosa.frames_to_time(np.arange(len(rms)), sr=sr, hop_length=hop_length)\n",
        "        return times, rms\n",
        "    except Exception as e:\n",
        "        print(f\"[WARN] Audio energy skipped due to error: {e}\")\n",
        "        return np.array([]), np.array([])\n",
        "\n",
        "def resample_to_seconds(times, values, duration_s):\n",
        "    if len(values) == 0:\n",
        "        return np.zeros(int(np.ceil(duration_s))+1)\n",
        "    sec_bins = int(np.ceil(duration_s)) + 1\n",
        "    out = np.zeros(sec_bins, dtype=float)\n",
        "    counts = np.zeros(sec_bins, dtype=float)\n",
        "    for t, v in zip(times, values):\n",
        "        s = int(np.clip(np.floor(t), 0, sec_bins-1))\n",
        "        out[s] += v\n",
        "        counts[s] += 1.0\n",
        "    counts[counts==0] = 1.0\n",
        "    out = out / counts\n",
        "    return out\n",
        "\n",
        "def smooth(x, k=5):\n",
        "    if k <= 1:\n",
        "        return x\n",
        "    k = min(k, len(x) - (1 - (len(x)>0)))\n",
        "    if k <= 1:\n",
        "        return x\n",
        "    kernel = np.ones(k) / k\n",
        "    return np.convolve(x, kernel, mode='same')\n",
        "\n",
        "def normalize_zero_one(x):\n",
        "    if len(x) == 0:\n",
        "        return x\n",
        "    lo, hi = float(np.min(x)), float(np.max(x))\n",
        "    if hi <= lo + 1e-9:\n",
        "        return np.zeros_like(x)\n",
        "    return (x - lo) / (hi - lo)\n",
        "\n",
        "def find_low_energy_moments(energy, q=0.35, min_gap_s=5):\n",
        "    threshold = np.quantile(energy, q)\n",
        "    idxs = [i for i, v in enumerate(energy) if v <= threshold]\n",
        "    moments, last = [], -1e9\n",
        "    for i in idxs:\n",
        "        if i - last >= min_gap_s:\n",
        "            moments.append(i)\n",
        "            last = i\n",
        "    return moments\n",
        "\n",
        "def sliding_window_argmax(x, window_s=10):\n",
        "    if len(x) <= window_s:\n",
        "        return 0\n",
        "    ps = np.concatenate([[0.0], np.cumsum(x)])\n",
        "    best_sum, best_start = -1.0, 0\n",
        "    for start in range(0, len(x) - window_s + 1):\n",
        "        s = ps[start + window_s] - ps[start]\n",
        "        if s > best_sum:\n",
        "            best_sum, best_start = s, start\n",
        "    return best_start\n",
        "\n",
        "def cue_for_moment(moment_s):\n",
        "    options = [\n",
        "        \"Scoreboard prompt: MAKE SOME NOISE\",\n",
        "        \"Chant start: OLE OLE OLE\",\n",
        "        \"Ribbon-board ripple in team colors\",\n",
        "        \"Clap pattern on PA: clap-clap-clap\",\n",
        "        \"Wave cue: sections light up front-to-back\",\n",
        "        \"Fan-cam on diehards + lower-bowl lights up\",\n",
        "        \"Stadium beat build, then whoosh SFX\",\n",
        "        \"Spotlight sweep across stands\",\n",
        "        \"Drumline hit on 1 and 3 for 8 bars\",\n",
        "        \"Call and response: LEFT SIDE vs RIGHT SIDE\"\n",
        "    ]\n",
        "    return options[moment_s % len(options)]\n",
        "\n"
      ]
    },
    {
      "cell_type": "code",
      "execution_count": 23,
      "id": "2b76cef7",
      "metadata": {
        "colab": {
          "base_uri": "https://localhost:8080/"
        },
        "id": "2b76cef7",
        "outputId": "0533bd17-fc94-48dd-978d-e83193c221cd"
      },
      "outputs": [
        {
          "output_type": "stream",
          "name": "stdout",
          "text": [
            "Enter the full path to your 30-60s crowd video (e.g., /content/clip.mp4): /content/Download.mp4\n",
            "Using video: /content/Download.mp4\n"
          ]
        }
      ],
      "source": [
        "# Enter your video path manually\n",
        "from pathlib import Path\n",
        "\n",
        "video_path = input(\"Enter the full path to your 30-60s crowd video (you can get the path for you mp4 file by right clicking on it and copying path): \").strip()\n",
        "\n",
        "if not video_path:\n",
        "    raise ValueError(\"No path provided. Please enter a valid file path.\")\n",
        "\n",
        "p = Path(video_path).expanduser()\n",
        "if not p.exists():\n",
        "    raise FileNotFoundError(f\"File not found: {p}\")\n",
        "\n",
        "video_path = str(p)\n",
        "print(\"Using video:\", video_path)\n"
      ]
    },
    {
      "cell_type": "code",
      "source": [
        "# Sports profile knobs\n",
        "MOTION_SAMPLE_FPS = 4.0\n",
        "RESIZE_W = 320\n",
        "AUDIO_WEIGHT = 0.6   # put more weight on crowd audio\n",
        "SMOOTH_K = 5\n",
        "LOW_Q = 0.40"
      ],
      "metadata": {
        "id": "31EWb3DNAhLT"
      },
      "id": "31EWb3DNAhLT",
      "execution_count": 24,
      "outputs": []
    },
    {
      "cell_type": "code",
      "execution_count": 25,
      "id": "3b8e1560",
      "metadata": {
        "id": "3b8e1560",
        "colab": {
          "base_uri": "https://localhost:8080/",
          "height": 542
        },
        "outputId": "c56a5b53-fb2a-467a-a35c-f422ef4b0ed8"
      },
      "outputs": [
        {
          "output_type": "display_data",
          "data": {
            "text/plain": [
              "<Figure size 640x480 with 1 Axes>"
            ],
            "image/png": "[encoded data removed]"
          },
          "metadata": {}
        },
        {
          "output_type": "stream",
          "name": "stdout",
          "text": [
            "Low-energy cues: [{'second': 0, 'cue': 'Scoreboard prompt: MAKE SOME NOISE'}, {'second': 5, 'cue': 'Fan-cam on diehards + lower-bowl lights up'}, {'second': 10, 'cue': 'Scoreboard prompt: MAKE SOME NOISE'}, {'second': 15, 'cue': 'Fan-cam on diehards + lower-bowl lights up'}, {'second': 48, 'cue': 'Drumline hit on 1 and 3 for 8 bars'}]\n",
            "Highlight start (s): 38\n"
          ]
        }
      ],
      "source": [
        "\n",
        "# Analyze\n",
        "clip = mp.VideoFileClip(video_path)\n",
        "duration_s = int(np.ceil(clip.duration))\n",
        "clip.close()\n",
        "\n",
        "mt, me = compute_motion_energy(video_path, sample_fps=MOTION_SAMPLE_FPS, resize_w=RESIZE_W)\n",
        "m_sec = resample_to_seconds(mt, me, duration_s)\n",
        "m_sec = normalize_zero_one(m_sec)\n",
        "\n",
        "at, ae = compute_audio_energy(video_path, target_sr=22050)\n",
        "a_sec = resample_to_seconds(at, ae, duration_s)\n",
        "a_sec = normalize_zero_one(a_sec)\n",
        "AUDIO_WEIGHT = 0.6  # sports crowd: lean on audio\n",
        "\n",
        "if np.all(a_sec == 0.0):\n",
        "    w_m, w_a = 1.0, 0.0\n",
        "else:\n",
        "    w_m, w_a = 1.0 - AUDIO_WEIGHT, AUDIO_WEIGHT\n",
        "energy = w_m * m_sec + w_a * a_sec\n",
        "energy = smooth(energy, k=SMOOTH_K)\n",
        "energy = normalize_zero_one(energy)\n",
        "\n",
        "# find moments\n",
        "lows = find_low_energy_moments(energy, q=LOW_Q, min_gap_s=5)\n",
        "highlight_start = sliding_window_argmax(energy, window_s=10)\n",
        "\n",
        "# cues\n",
        "cues = [{\"second\": int(s), \"cue\": cue_for_moment(int(s))} for s in lows]\n",
        "\n",
        "# save artifacts\n",
        "os.makedirs(\"outputs\", exist_ok=True)\n",
        "\n",
        "# energy CSV\n",
        "import csv\n",
        "with open(\"outputs/energy.csv\", \"w\", newline=\"\") as f:\n",
        "    w = csv.writer(f)\n",
        "    w.writerow([\"second\", \"energy_0to1\"])\n",
        "    for i, v in enumerate(energy):\n",
        "        w.writerow([i, float(v)])\n",
        "\n",
        "with open(\"outputs/cues.json\", \"w\") as f:\n",
        "    json.dump({\"cues\": cues}, f, indent=2)\n",
        "\n",
        "# plot\n",
        "plt.figure()\n",
        "x = np.arange(len(energy))\n",
        "plt.plot(x, energy, label=\"Energy\")\n",
        "for s in lows:\n",
        "    plt.axvline(s, linestyle=\"--\", alpha=0.5)\n",
        "hs = highlight_start\n",
        "he = min(hs + 10, len(energy)-1)\n",
        "plt.axvspan(hs, he, alpha=0.2)\n",
        "plt.xlabel(\"Seconds\")\n",
        "plt.ylabel(\"Energy (0-1)\")\n",
        "plt.title(\"Crowd Energy with Low-Energy Cues and Highlight Window\")\n",
        "plt.legend()\n",
        "plt.tight_layout()\n",
        "plt.savefig(\"outputs/energy_plot.png\", dpi=160)\n",
        "plt.show()\n",
        "\n",
        "print(\"Low-energy cues:\", cues)\n",
        "print(\"Highlight start (s):\", highlight_start)\n"
      ]
    },
    {
      "cell_type": "code",
      "execution_count": 26,
      "id": "a4d1acbc",
      "metadata": {
        "id": "a4d1acbc",
        "colab": {
          "base_uri": "https://localhost:8080/",
          "height": 157
        },
        "outputId": "71ffe24f-3570-4062-cf57-3119927391f2"
      },
      "outputs": [
        {
          "output_type": "stream",
          "name": "stdout",
          "text": [
            "Moviepy - Building video outputs/highlight_clip.mp4.\n",
            "MoviePy - Writing audio in highlight_clipTEMP_MPY_wvf_snd.mp4\n"
          ]
        },
        {
          "output_type": "stream",
          "name": "stderr",
          "text": []
        },
        {
          "output_type": "stream",
          "name": "stdout",
          "text": [
            "MoviePy - Done.\n",
            "Moviepy - Writing video outputs/highlight_clip.mp4\n",
            "\n"
          ]
        },
        {
          "output_type": "stream",
          "name": "stderr",
          "text": []
        },
        {
          "output_type": "stream",
          "name": "stdout",
          "text": [
            "Moviepy - Done !\n",
            "Moviepy - video ready outputs/highlight_clip.mp4\n"
          ]
        },
        {
          "output_type": "execute_result",
          "data": {
            "text/plain": [
              "'outputs/highlight_clip.mp4'"
            ],
            "application/vnd.google.colaboratory.intrinsic+json": {
              "type": "string"
            }
          },
          "metadata": {},
          "execution_count": 26
        }
      ],
      "source": [
        "\n",
        "# Export 10-second highlight clip\n",
        "hs = int(highlight_start)\n",
        "full = mp.VideoFileClip(video_path)\n",
        "end_s = min(hs + 10, int(np.floor(full.duration)))\n",
        "clip = full.subclip(hs, end_s)\n",
        "out_path = \"outputs/highlight_clip.mp4\"\n",
        "clip.write_videofile(out_path, codec=\"libx264\", audio_codec=\"aac\")\n",
        "full.close()\n",
        "clip.close()\n",
        "out_path\n"
      ]
    },
    {
      "cell_type": "code",
      "source": [],
      "metadata": {
        "id": "ZfBAI9ge9NI4"
      },
      "id": "ZfBAI9ge9NI4",
      "execution_count": null,
      "outputs": []
    }
  ],
  "metadata": {
    "kernelspec": {
      "display_name": "Python 3",
      "language": "python",
      "name": "python3"
    },
    "language_info": {
      "codemirror_mode": {
        "name": "ipython",
        "version": 3
      },
      "file_extension": ".py",
      "mimetype": "text/x-python",
      "name": "python",
      "nbconvert_exporter": "python",
      "pygments_lexer": "ipython3",
      "version": "3.13.3"
    },
    "colab": {
      "provenance": []
    }
  },
  "nbformat": 4,
  "nbformat_minor": 5
}